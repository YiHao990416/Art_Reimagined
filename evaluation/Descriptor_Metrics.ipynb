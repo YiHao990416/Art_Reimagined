{
 "cells": [
  {
   "cell_type": "code",
   "execution_count": null,
   "metadata": {},
   "outputs": [],
   "source": [
    "! pip install -e git+https://github.com/toshas/torch-fidelity.git@master#egg=torch-fidelity\n",
    "\n",
    "! fidelity --gpu 0 --isc --fid --kid-subset-size 50 --kid --samples-find-deep --input1 /path/to/fake/images --input2 /path/to/real/images"
   ]
  }
 ],
 "metadata": {
  "kernelspec": {
   "display_name": "art_reimagined",
   "language": "python",
   "name": "python3"
  },
  "language_info": {
   "name": "python",
   "version": "3.10.14"
  }
 },
 "nbformat": 4,
 "nbformat_minor": 2
}
